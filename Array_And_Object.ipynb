{
  "nbformat": 4,
  "nbformat_minor": 0,
  "metadata": {
    "colab": {
      "provenance": []
    },
    "kernelspec": {
      "name": "python3",
      "display_name": "Python 3"
    },
    "language_info": {
      "name": "python"
    }
  },
  "cells": [
    {
      "cell_type": "code",
      "execution_count": null,
      "metadata": {
        "id": "vVsvPddn3N0z"
      },
      "outputs": [],
      "source": []
    },
    {
      "cell_type": "markdown",
      "source": [
        "1. In the following shopping cart add, remove, and edit items\n",
        "\n",
        "    => const shoppingCart = ['Milk', 'Coffee', 'Tea', 'Honey'O\n",
        "L      add 'Meat' in the beginning of your shopping cart if it has not been already addeJ\n",
        "L      add Sugar at the end of you shopping cart if it has not been already addeJ\n",
        "L      remove 'Honey' if you are allergic to hone\n",
        "L      modify Tea to 'Green Tea'"
      ],
      "metadata": {
        "id": "Iksk2I5j3PS0"
      }
    },
    {
      "cell_type": "markdown",
      "source": [
        "let shoppingCart = ['Milk', 'Coffee', 'Tea', 'Honey'];\n",
        "if (!shoppingCart.includes('Meat')) {\n",
        "  shoppingCart.unshift('Meat'); // adds at beginning\n",
        "}\n",
        "if (!shoppingCart.includes('Sugar')) {\n",
        "  shoppingCart.push('Sugar'); // adds at end\n",
        "}\n",
        "const allergicToHoney = true;\n",
        "\n",
        "if (allergicToHoney && shoppingCart.includes('Honey')) {\n",
        "  // remove honey\n",
        "  shoppingCart = shoppingCart.filter(item => item !== 'Honey');\n",
        "}\n",
        "const teaIndex = shoppingCart.indexOf('Tea');\n",
        "if (teaIndex !== -1) {\n",
        "  shoppingCart[teaIndex] = 'Green Tea';\n",
        "}\n",
        "console.log(shoppingCart);"
      ],
      "metadata": {
        "id": "6jQdkfPA4bkt"
      }
    },
    {
      "cell_type": "markdown",
      "source": [
        "2. The following is an array of 10 students ages:\n",
        "\n",
        "\n",
        "    => const ages = [19, 22, 19, 24, 20, 25, 26, 24, 25, 24O\n",
        "L     Sort the array and find the min and max age1\n",
        "L     Find the median age(one middle item or two middle items divided by twom\n",
        "L     Find the average age(all items divided by number of itemsm\n",
        "L     Find the range of the ages(max minus minm\n",
        "L     Compare the value of (min - average) and (max - average), use abs() method"
      ],
      "metadata": {
        "id": "E54FI1sK4xT8"
      }
    },
    {
      "cell_type": "code",
      "source": [
        "const ages = [19, 22, 19, 24, 20, 25, 26, 24, 25, 24];\n",
        "\n",
        "// 1. Sort + min & max\n",
        "const sortedAges = ages.slice().sort((a, b) => a - b);\n",
        "const minAge = sortedAges[0];\n",
        "const maxAge = sortedAges[sortedAges.length - 1];\n",
        "\n",
        "// 2. Median\n",
        "let medianAge;\n",
        "const mid = Math.floor(sortedAges.length / 2);\n",
        "if (sortedAges.length % 2 === 0) {\n",
        "  medianAge = (sortedAges[mid - 1] + sortedAges[mid]) / 2;\n",
        "} else {\n",
        "  medianAge = sortedAges[mid];\n",
        "}\n",
        "\n",
        "// 3. Average\n",
        "const sum = ages.reduce((acc, val) => acc + val, 0);\n",
        "const averageAge = sum / ages.length;\n",
        "\n",
        "// 4. Range\n",
        "const range = maxAge - minAge;\n",
        "\n",
        "// 5. Compare |min - avg| and |max - avg|\n",
        "const minDiff = Math.abs(minAge - averageAge);\n",
        "const maxDiff = Math.abs(maxAge - averageAge);\n",
        "\n",
        "console.log(\"Sorted Ages:\", sortedAges);\n",
        "console.log(\"Min Age:\", minAge);\n",
        "console.log(\"Max Age:\", maxAge);\n",
        "console.log(\"Median Age:\", medianAge);\n",
        "console.log(\"Average Age:\", averageAge);\n",
        "console.log(\"Range:\", range);\n",
        "console.log(\"|Min - Average|:\", minDiff);\n",
        "console.log(\"|Max - Average|:\", maxDiff);\n"
      ],
      "metadata": {
        "id": "x-CUk6vo41I1"
      },
      "execution_count": null,
      "outputs": []
    },
    {
      "cell_type": "markdown",
      "source": [
        "3. Object Extensibility and Sealing\n",
        "\n",
        "\n",
        "a) Use the Object.preventExtensions method to prevent any further additions of properties to the student object.\n",
        "\n",
        "b) Use the Object.isExtensible method to check if the student object is extensible. Store the result in a variable\n",
        "called extensibleStatus.\n",
        "\n",
        "c) Create a new object called teacher with a 'subject' property set to 'Math'.\n",
        "\n",
        "d) Use the Object.seal method to seal the teacher object, preventing any additions or deletions of properties.\n",
        "\n",
        "e) Use the Object.isSealed method to check if the teacher object is sealed. Store the result in a variable called\n",
        "sealedStatus.\n",
        "\n",
        "f) Print the extensibleStatus and sealedStatus to the console"
      ],
      "metadata": {
        "id": "rLWqEc6D5OEs"
      }
    },
    {
      "cell_type": "code",
      "source": [
        "// Student object\n",
        "const student = {\n",
        "  name: \"John\",\n",
        "  age: 20\n",
        "};\n",
        "\n",
        "// a) Prevent adding new properties\n",
        "Object.preventExtensions(student);\n",
        "\n",
        "// b) Check if extensible\n",
        "const extensibleStatus = Object.isExtensible(student);\n",
        "\n",
        "// c) Create teacher object\n",
        "const teacher = {\n",
        "  subject: \"Math\"\n",
        "};\n",
        "\n",
        "// d) Seal teacher object\n",
        "Object.seal(teacher);\n",
        "\n",
        "// e) Check if sealed\n",
        "const sealedStatus = Object.isSealed(teacher);\n",
        "\n",
        "// f) Print results\n",
        "console.log(\"Extensible Status of student:\", extensibleStatus); // false\n",
        "console.log(\"Sealed Status of teacher:\", sealedStatus); // true\n"
      ],
      "metadata": {
        "id": "XstpOB6j5RTN"
      },
      "execution_count": null,
      "outputs": []
    },
    {
      "cell_type": "markdown",
      "source": [
        "4. Assignment: Building a Student Management System\n",
        "\n",
        "\n",
        "Description:\n",
        "\n",
        "You are tasked with building a student management system using JavaScript. The system should allow you to\n",
        "perform various operations on a list of students, including adding, updating, deleting, and displaying student\n",
        "information.\n",
        "\n",
        "\n",
        "Requirements:\n",
        "\n",
        "Here is an initial array of students. Each student is represented as an object with the following properties: id,\n",
        "firstName, lastName, age, and grade.\n",
        "\n",
        "const students = [\n",
        "\n",
        "  { id: 1, firstName: \"John\", lastName: \"Doe\", age: 20, grade:\n",
        "\"A\" },\n",
        "\n",
        "  { id: 2, firstName: \"Jane\", lastName: \"Smith\", age: 22, grade:\n",
        "\"B\" },\n",
        "\n",
        "  { id: 3, firstName: \"Bob\", lastName: \"Johnson\", age: 19, grade:\n",
        "\"A\" },\n",
        "\n",
        "  // Add more students as needed\n",
        "\n",
        "];\n",
        "Implement the following functions using pure JavaScript (without any external libraries or frameworks):\n",
        "\n",
        "\n",
        "a. Add a Student: Create a function to add a new student to the array.\n",
        "\n",
        "b. Update Student Information: Create a function to update a student's information based on their id.\n",
        "\n",
        "c. Delete a Student: Create a function to delete a student based on their id.\n",
        "\n",
        "d. List All Students: Create a function to display a list of all students.\n",
        "\n",
        "e. Find Students by Grade: Create a function to find all students who have a specific grade.\n",
        "\n",
        "f. Calculate Average Age: Create a function to calculate the average age of all students using array method."
      ],
      "metadata": {
        "id": "eTjcu7_B57h1"
      }
    },
    {
      "cell_type": "code",
      "source": [
        "let students = [\n",
        "  { id: 1, firstName: \"John\", lastName: \"Doe\", age: 20, grade: \"A\" },\n",
        "  { id: 2, firstName: \"Jane\", lastName: \"Smith\", age: 22, grade: \"B\" },\n",
        "  { id: 3, firstName: \"Bob\", lastName: \"Johnson\", age: 19, grade: \"A\" }\n",
        "];\n",
        "\n",
        "// a. Add a Student\n",
        "function addStudent(newStudent) {\n",
        "  students.push(newStudent);\n",
        "}\n",
        "\n",
        "// b. Update Student Information\n",
        "function updateStudent(id, updatedInfo) {\n",
        "  const index = students.findIndex(student => student.id === id);\n",
        "  if (index !== -1) {\n",
        "    students[index] = { ...students[index], ...updatedInfo };\n",
        "  } else {\n",
        "    console.log(`Student with id ${id} not found.`);\n",
        "  }\n",
        "}\n",
        "\n",
        "// c. Delete a Student\n",
        "function deleteStudent(id) {\n",
        "  students = students.filter(student => student.id !== id);\n",
        "}\n",
        "\n",
        "// d. List All Students\n",
        "function listAllStudents() {\n",
        "  console.table(students);\n",
        "}\n",
        "\n",
        "// e. Find Students by Grade\n",
        "function findStudentsByGrade(grade) {\n",
        "  return students.filter(student => student.grade === grade);\n",
        "}\n",
        "\n",
        "// f. Calculate Average Age\n",
        "function calculateAverageAge() {\n",
        "  if (students.length === 0) return 0;\n",
        "  const totalAge = students.reduce((sum, student) => sum + student.age, 0);\n",
        "  return totalAge / students.length;\n",
        "}\n",
        "\n",
        "// --- Example usage ---\n",
        "addStudent({ id: 4, firstName: \"Alice\", lastName: \"Brown\", age: 21, grade: \"C\" });\n",
        "updateStudent(2, { age: 23, grade: \"A+\" });\n",
        "deleteStudent(3);\n",
        "\n",
        "listAllStudents();\n",
        "console.log(\"Students with grade A:\", findStudentsByGrade(\"A\"));\n",
        "console.log(\"Average Age:\", calculateAverageAge());\n"
      ],
      "metadata": {
        "id": "gNDH1Wp56Glg"
      },
      "execution_count": null,
      "outputs": []
    },
    {
      "cell_type": "markdown",
      "source": [
        "5. You are given a JavaScript object representing a student's information. Your task is to use the 'for...in' loop\n",
        "to iterate over the properties of the object and perform various operations.\n",
        "\n",
        "a) Create a function displayStudentInfo that takes the student object as a parameter. Inside this function, use a\n",
        "'for...in' loop to iterate over the properties of the student object and print each property and its corresponding\n",
        "value to the console. The output should look something like this:\n",
        "const student = {\n",
        "\n",
        "  name: \"Alice\",\n",
        "\n",
        "  age: 22,\n",
        "\n",
        "  major: \"Computer Science\",\n",
        "\n",
        "  GPA: 3.8,\n",
        "\n",
        "  isEnrolled: true\n",
        "\n",
        "};\n",
        "\n",
        "Property: name, Value: Alice\n",
        "\n",
        "Property: age, Value: 22\n",
        "\n",
        "Property: major, Value: Computer Science\n",
        "\n",
        "Property: GPA, Value: 3.8\n",
        "\n",
        "Property: isEnrolled, Value: true"
      ],
      "metadata": {
        "id": "xkyE6cOY6by9"
      }
    },
    {
      "cell_type": "code",
      "source": [
        "const student = {\n",
        "  name: \"Alice\",\n",
        "  age: 22,\n",
        "  major: \"Computer Science\",\n",
        "  GPA: 3.8,\n",
        "  isEnrolled: true\n",
        "};\n",
        "function displayStudentInfo(studentObj) {\n",
        "  for (let key in studentObj) {\n",
        "    // key = property name\n",
        "    // studentObj[key] = property value\n",
        "    console.log(`Property: ${key}, Value: ${studentObj[key]}`);\n",
        "  }\n",
        "}\n",
        "displayStudentInfo(student);\n"
      ],
      "metadata": {
        "id": "5wiQy9aA6fKC"
      },
      "execution_count": null,
      "outputs": []
    }
  ]
}